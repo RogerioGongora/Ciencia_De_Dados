{
 "cells": [
  {
   "cell_type": "code",
   "execution_count": 17,
   "id": "efc97dc6",
   "metadata": {},
   "outputs": [
    {
     "name": "stdout",
     "output_type": "stream",
     "text": [
      "O maior valor é:  9\n",
      "O menor valor é: 2\n",
      "Sendo assim, a amplitude é: 7\n"
     ]
    }
   ],
   "source": [
    "def amplitude(x):\n",
    "    print('O maior valor é: ',max(x))\n",
    "    print('O menor valor é:', min(x))\n",
    "    print('Sendo assim, a amplitude é:', max(x) - min(x))\n",
    "\n",
    "\n",
    "x = [2,3,6,9]\n",
    "amplitude(x)"
   ]
  },
  {
   "cell_type": "code",
   "execution_count": 34,
   "id": "1ede929a",
   "metadata": {},
   "outputs": [
    {
     "name": "stdout",
     "output_type": "stream",
     "text": [
      "Entre com uma palavra: rogerio\n",
      "r\n",
      "o\n",
      "g\n",
      "e\n",
      "r\n",
      "i\n",
      "o\n"
     ]
    },
    {
     "data": {
      "text/plain": [
       "7"
      ]
     },
     "execution_count": 34,
     "metadata": {},
     "output_type": "execute_result"
    }
   ],
   "source": [
    "def nome(x):\n",
    "    for n in range(0, len(x)):\n",
    "        print(x[n])\n",
    "    \n",
    "    \n",
    "x = input('Entre com uma palavra: ')\n",
    "nome(x)\n",
    "len(x)"
   ]
  },
  {
   "cell_type": "code",
   "execution_count": 41,
   "id": "90601e81",
   "metadata": {},
   "outputs": [
    {
     "name": "stdout",
     "output_type": "stream",
     "text": [
      "Digite o peso da carga: 500\n",
      "O transporte não é aceito\n"
     ]
    }
   ],
   "source": [
    "def pesoMin(x):\n",
    "    print('O valor será de R$50')\n",
    "    \n",
    "def pesoMed(x):\n",
    "    print('O valor será de R$ 80')\n",
    "    \n",
    "def pesoMax(x):\n",
    "    print('O transporte não é aceito')\n",
    "    \n",
    "x = float(input('Digite o peso da carga: '))\n",
    "if x < 11:\n",
    "    pesoMin(x)\n",
    "elif x > 20:\n",
    "    pesoMax(x)\n",
    "else:\n",
    "    pesoMed(x)\n"
   ]
  }
 ],
 "metadata": {
  "kernelspec": {
   "display_name": "Python 3",
   "language": "python",
   "name": "python3"
  },
  "language_info": {
   "codemirror_mode": {
    "name": "ipython",
    "version": 3
   },
   "file_extension": ".py",
   "mimetype": "text/x-python",
   "name": "python",
   "nbconvert_exporter": "python",
   "pygments_lexer": "ipython3",
   "version": "3.8.8"
  }
 },
 "nbformat": 4,
 "nbformat_minor": 5
}
